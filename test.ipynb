{
 "cells": [
  {
   "cell_type": "code",
   "execution_count": 2,
   "id": "c898e4a1",
   "metadata": {},
   "outputs": [],
   "source": [
    "import numpy as np\n",
    "import matplotlib.pyplot as plt"
   ]
  },
  {
   "cell_type": "markdown",
   "id": "563c58ff",
   "metadata": {},
   "source": [
    "## Gaussianity"
   ]
  },
  {
   "cell_type": "markdown",
   "id": "17d03ac6",
   "metadata": {},
   "source": [
    "Dark matter signal is given by\n",
    "$$\n",
    "\\delta t_a(t_I) \n",
    "= \\frac{m}{V} \n",
    "\\sum_{i \\neq j} \n",
    "\\sqrt{\\frac{f(\\boldsymbol k_i) f(\\boldsymbol k_j)}{4}}\n",
    "( i \\boldsymbol k_{ij} \\cdot \\hat n_a)\n",
    "\\frac{4\\pi G}{|\\boldsymbol k_{ij}|^2} \n",
    "e^{i (\\omega_i - \\omega_j) t_I}\n",
    "a_i^* a_j\n",
    "$$\n",
    "where $\\boldsymbol k_{ij} = \\boldsymbol k_i - \\boldsymbol k_j$. The modulus of $a_i$ follows a Rayleigh distribution, while the phase follows the uniform distribution. The Fourier component is\n",
    "$$\n",
    "\\widetilde{\\delta t}_a(f_k)\n",
    "=\n",
    "\\frac{m}{V}\n",
    "\\sum_{i \\neq j}\n",
    "\\sqrt{\\frac{f(\\boldsymbol k_i) f(\\boldsymbol k_j)}{4}}\n",
    "( i \\boldsymbol k_{ij} \\cdot \\hat n_a)\n",
    "\\frac{4\\pi G}{|\\boldsymbol k_{ij}|^2} \n",
    "a_i^* a_j\n",
    "\\delta(f_k + f_i - f_j)\n",
    "$$\n",
    "For red noises and GW signals, this Fourier component of timing residual is assumed to follow Rayleigh + Uniform distribution, or equivalently, Gaussian + Gaussian distribution. \n",
    "\n",
    "To check if this is the case for ULDM, we examine distribution of $\\delta t$, ${\\rm Re}\\,\\widetilde{\\delta t}$ and ${\\rm Im}\\,\\widetilde{\\delta t}$. We first decompose $a_i = X_i + i Y_i$ where $X_i$ and $Y_i$ are iid following standard normal distribution. We then find in time domain\n",
    "$$\n",
    "\\delta t_a(t_I) \n",
    "= \\frac{m}{V} \n",
    "\\sum_{i \\neq j} \n",
    "\\sqrt{\\frac{f(\\boldsymbol k_i) f(\\boldsymbol k_j)}{4}}\n",
    "(\\boldsymbol k_{ij} \\cdot \\hat n_a)\n",
    "\\frac{8\\pi G}{|\\boldsymbol k_{ij}|^2} \n",
    "\\left[ \n",
    "-\\sin(\\omega_{ij} t_I) (X_i X_j + Y_i Y_j) + \\cos(\\omega_{ij} t_I) (X_i Y_j - Y_i X_j)\n",
    "\\right]\n",
    "$$\n",
    "and in Fourier domain\n",
    "$$\n",
    "{\\rm Re} \\, \\widetilde{\\delta t}_a(f_k)\n",
    "= \n",
    "\\frac{m}{V}\n",
    "\\sum_{i \\neq j}\n",
    "\\sqrt{\\frac{f(\\boldsymbol k_i) f(\\boldsymbol k_j)}{4}}\n",
    "(\\boldsymbol k_{ij} \\cdot \\hat n_a)\n",
    "\\frac{4\\pi G}{|\\boldsymbol k_{ij}|^2} \n",
    "(Y_i X_j - X_i Y_j)\n",
    "\\delta(f_k + f_i - f_j)\n",
    "$$\n",
    "and\n",
    "$$\n",
    "{\\rm Im} \\, \\widetilde{\\delta t}_a(f_k)\n",
    "= \n",
    "\\frac{m}{V}\n",
    "\\sum_{i \\neq j} \n",
    "\\sqrt{\\frac{f(\\boldsymbol k_i) f(\\boldsymbol k_j)}{4}}\n",
    "(\\boldsymbol k_{ij} \\cdot \\hat n_a)\n",
    "\\frac{4\\pi G}{|\\boldsymbol k_{ij}|^2} \n",
    "(X_i X_j + Y_i Y_j)\n",
    "\\delta(f_k + f_i - f_j)\n",
    "$$\n",
    "Here $\\omega_{ij} = \\omega_i - \\omega_j$. We check the distribution of each of them. For the time-domain, we may choose $t_I = 0$ for simplicity."
   ]
  },
  {
   "cell_type": "code",
   "execution_count": null,
   "id": "48fb980b",
   "metadata": {},
   "outputs": [],
   "source": [
    "# Pulsar location\n",
    "n = [0, 0, 1]\n"
   ]
  }
 ],
 "metadata": {
  "kernelspec": {
   "display_name": "Python 3",
   "language": "python",
   "name": "python3"
  },
  "language_info": {
   "codemirror_mode": {
    "name": "ipython",
    "version": 3
   },
   "file_extension": ".py",
   "mimetype": "text/x-python",
   "name": "python",
   "nbconvert_exporter": "python",
   "pygments_lexer": "ipython3",
   "version": "3.10.11"
  }
 },
 "nbformat": 4,
 "nbformat_minor": 5
}
