{
 "cells": [
  {
   "cell_type": "code",
   "execution_count": 3,
   "id": "c1d0787f",
   "metadata": {},
   "outputs": [],
   "source": [
    "import os\n",
    "import numpy as np\n",
    "import matplotlib.pyplot as plt\n",
    "\n",
    "from constants import *\n",
    "\n",
    "%load_ext autoreload\n",
    "%autoreload 2"
   ]
  },
  {
   "cell_type": "code",
   "execution_count": 119,
   "id": "5491dbbc",
   "metadata": {},
   "outputs": [],
   "source": [
    "num_v = 20\n",
    "v = np.linspace(-5, 5, num_v)\n",
    "dv = v[1] - v[0]"
   ]
  },
  {
   "cell_type": "code",
   "execution_count": 120,
   "id": "b36db084",
   "metadata": {},
   "outputs": [],
   "source": [
    "VX, VY, VZ = np.meshgrid(v, v, v, indexing='ij')\n",
    "V2 = np.sqrt(VX**2 + VY**2 + VZ**2)\n",
    "V2 = V2.reshape(num_v**3)"
   ]
  },
  {
   "cell_type": "code",
   "execution_count": 121,
   "id": "1f8e21f8",
   "metadata": {},
   "outputs": [],
   "source": [
    "rng = np.random.default_rng(0)\n",
    "X = rng.normal(size=num_v**3)\n",
    "Xn = rng.normal(size=num_v**3)\n",
    "# Y = rng.normal(size=num_v**3)"
   ]
  },
  {
   "cell_type": "code",
   "execution_count": 122,
   "id": "eb19b0a6",
   "metadata": {},
   "outputs": [],
   "source": [
    "freq = np.arange(1,10) * 1 / (20 * yr)"
   ]
  },
  {
   "cell_type": "code",
   "execution_count": null,
   "id": "7f078c59",
   "metadata": {},
   "outputs": [],
   "source": [
    "def ReRho(freq: list[float], m: float, sigma: float, mode: int):\n",
    "    '''\n",
    "    Compute Re(rho_k)\n",
    "    Input\n",
    "        freq    (ndarray (n,))     frequency array\n",
    "        m       (scalar)           mass [Hz]\n",
    "        sigma   (scalar)           velocity dispersion [km/sec]\n",
    "    '''\n",
    "    \n",
    "    Xtilde = X * np.exp(-V2 / 2)\n",
    "\n",
    "    if mode == 'one':\n",
    "        tau = 1 / (m * (sigma / c)**2)\n",
    "        freqt = freq * tau\n",
    "\n",
    "        return dv**3 / (2 * np.pi)**1.5 * np.exp(-freqt / 2) * np.sum(Xtilde * Xn)\n",
    "\n",
    "    if mode == 'two':\n",
    "        # freq_diff = freq[:, None, None] + 0.5 * m * (sigma / c)**2 * (V2[None, :, None] - V2[None, None, :])\n",
    "        # kernel_ReRho = np.sinc(freq_diff * np.pi / freq[0])\n",
    "        freq_diff = freq + 0.5 * m * (sigma / c)**2 * (V2[:, None] - V2[None, :])\n",
    "        kernel_ReRho = np.sinc(freq_diff * np.pi / (1e-9))\n",
    "    \n",
    "        print(freq_diff.shape)\n",
    "        \n",
    "        return dv**3 / (2 * np.pi)**1.5 * Xtilde @ kernel_ReRho @ Xtilde.T"
   ]
  },
  {
   "cell_type": "code",
   "execution_count": null,
   "id": "984cb505",
   "metadata": {},
   "outputs": [
    {
     "data": {
      "text/plain": [
       "(999999,)"
      ]
     },
     "execution_count": 139,
     "metadata": {},
     "output_type": "execute_result"
    }
   ],
   "source": [
    "np.arange(1,1e+6).shape"
   ]
  },
  {
   "cell_type": "code",
   "execution_count": 137,
   "id": "8c417d6e",
   "metadata": {},
   "outputs": [
    {
     "name": "stdout",
     "output_type": "stream",
     "text": [
      "(8000, 8000)\n"
     ]
    },
    {
     "data": {
      "text/plain": [
       "-0.0728238218988553"
      ]
     },
     "execution_count": 137,
     "metadata": {},
     "output_type": "execute_result"
    }
   ],
   "source": [
    "ReRho(5e-9, 1e-3, 160, 'two')"
   ]
  },
  {
   "cell_type": "code",
   "execution_count": 111,
   "id": "49e9b139",
   "metadata": {},
   "outputs": [
    {
     "data": {
      "text/plain": [
       "array([4.05580783e-03, 2.51292670e-04, 1.55697727e-05, 9.64683217e-07,\n",
       "       5.97705393e-08, 3.70330623e-09, 2.29452121e-10, 1.42165602e-11,\n",
       "       8.80839900e-13])"
      ]
     },
     "execution_count": 111,
     "metadata": {},
     "output_type": "execute_result"
    }
   ],
   "source": [
    "ReRho(freq, 1e-3, 160, 'one')"
   ]
  },
  {
   "cell_type": "code",
   "execution_count": null,
   "id": "9553101c",
   "metadata": {},
   "outputs": [],
   "source": []
  }
 ],
 "metadata": {
  "kernelspec": {
   "display_name": "Python 3",
   "language": "python",
   "name": "python3"
  },
  "language_info": {
   "codemirror_mode": {
    "name": "ipython",
    "version": 3
   },
   "file_extension": ".py",
   "mimetype": "text/x-python",
   "name": "python",
   "nbconvert_exporter": "python",
   "pygments_lexer": "ipython3",
   "version": "3.10.11"
  }
 },
 "nbformat": 4,
 "nbformat_minor": 5
}
