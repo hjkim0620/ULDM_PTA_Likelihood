{
 "cells": [
  {
   "cell_type": "code",
   "execution_count": 143,
   "id": "c1d0787f",
   "metadata": {},
   "outputs": [
    {
     "name": "stdout",
     "output_type": "stream",
     "text": [
      "The autoreload extension is already loaded. To reload it, use:\n",
      "  %reload_ext autoreload\n"
     ]
    }
   ],
   "source": [
    "import os\n",
    "import time\n",
    "import numpy as np\n",
    "import matplotlib.pyplot as plt\n",
    "\n",
    "from constants import *\n",
    "from scipy.special import k0\n",
    "\n",
    "plt.style.use('./myplot.mplstyle')\n",
    "%load_ext autoreload\n",
    "%autoreload 2"
   ]
  },
  {
   "cell_type": "code",
   "execution_count": 2,
   "id": "5491dbbc",
   "metadata": {},
   "outputs": [],
   "source": [
    "num_v = 20\n",
    "v = np.linspace(-5, 5, num_v)\n",
    "dv = v[1] - v[0]"
   ]
  },
  {
   "cell_type": "code",
   "execution_count": 3,
   "id": "b36db084",
   "metadata": {},
   "outputs": [],
   "source": [
    "VX, VY, VZ = np.meshgrid(v, v, v, indexing='ij')\n",
    "V2 = np.sqrt(VX**2 + VY**2 + VZ**2)\n",
    "V2 = V2.reshape(num_v**3)"
   ]
  },
  {
   "cell_type": "code",
   "execution_count": 4,
   "id": "1f8e21f8",
   "metadata": {},
   "outputs": [],
   "source": [
    "rng = np.random.default_rng(0)\n",
    "X = rng.normal(size=num_v**3)\n",
    "Xn = rng.normal(size=num_v**3)\n",
    "# Y = rng.normal(size=num_v**3)"
   ]
  },
  {
   "cell_type": "code",
   "execution_count": 5,
   "id": "eb19b0a6",
   "metadata": {},
   "outputs": [],
   "source": [
    "freq = np.arange(1,10) * 1 / (20 * yr)"
   ]
  },
  {
   "cell_type": "code",
   "execution_count": 6,
   "id": "7f078c59",
   "metadata": {},
   "outputs": [],
   "source": [
    "def ReRho(freq: list[float], m: float, sigma: float):\n",
    "    '''\n",
    "    Compute Re(rho_k)\n",
    "    Input\n",
    "        freq    (ndarray (n,))     frequency array\n",
    "        m       (scalar)           mass [Hz]\n",
    "        sigma   (scalar)           velocity dispersion [km/sec]\n",
    "    '''\n",
    "    \n",
    "    Xtilde = X * np.exp(-V2 / 2)\n",
    "\n",
    "\n",
    "    freq_diff = freq[:, None, None] + 0.5 * m * (sigma / c)**2 * (V2[None, :, None] - V2[None, None, :])\n",
    "    kernel_ReRho = np.sinc(freq_diff * np.pi / freq[0])\n",
    "    # freq_diff = freq + 0.5 * m * (sigma / c)**2 * (V2[:, None] - V2[None, :])\n",
    "    # kernel_ReRho = np.sinc(freq_diff * np.pi / (1e-9))\n",
    "\n",
    "    print(freq_diff.shape)\n",
    "    \n",
    "    return dv**3 / (2 * np.pi)**1.5 * Xtilde @ kernel_ReRho @ Xtilde.T"
   ]
  },
  {
   "cell_type": "code",
   "execution_count": 314,
   "id": "0ba38103",
   "metadata": {},
   "outputs": [],
   "source": [
    "class ULDM_Signal:\n",
    "    def __init__(self, mass, sigma, T, na):\n",
    "        '''\n",
    "        Initialize the instance\n",
    "\n",
    "        Input\n",
    "            mass    (scalar)        mass [Hz]\n",
    "            sigma   (scalar)        vel. dispersion [km/sec]\n",
    "            T       (scalar)        total observational time span [sec]\n",
    "            na      (ndarray (3,))  unit vector along the line of sight\n",
    "        '''\n",
    "\n",
    "        self.tau = 1 / (mass * (sigma / c)**2)\n",
    "        self.kin = 1 / self.tau\n",
    "        self.rng = np.random.default_rng(0)\n",
    "        self.na = na\n",
    "        self.T = T\n",
    "\n",
    "        self.set_arrays()\n",
    "        self.set_kernel()\n",
    "        \n",
    "    def set_arrays(self, Nd=7, Nc=7, Nmu=5, Nphi=5):\n",
    "        '''\n",
    "        Set arrays for ULDM signal computation\n",
    "\n",
    "        Input\n",
    "            Nd  (scalar)    number of wd frequency bins\n",
    "            Nc  (scalar)    number of wc frequency bins\n",
    "            Nmu (scalar)    number of cos(theta) bins\n",
    "            Nphi(scalar)    number of phi bins\n",
    "        '''\n",
    "        \n",
    "        self.Nd = Nd\n",
    "        self.Nc = Nc\n",
    "        self.Nmu = Nmu\n",
    "        self.Nphi = Nphi\n",
    "        \n",
    "        self.wd = 2 * np.pi / self.T * np.arange(1, Nd + 1)\n",
    "        self.wc = np.linspace(np.pi / self.T, 30 * self.kin, Nc)\n",
    "        self.cos = np.linspace(-1, 1, Nmu)\n",
    "        self.phi = np.linspace(0, 2 * np.pi, Nphi)\n",
    "\n",
    "        self.dwc = self.wc[1] - self.wd[0]\n",
    "        self.dO = (self.cos[1] - self.cos[0]) * (self.phi[1] - self.phi[0])\n",
    "\n",
    "        self.WC, self.COS1, self.PHI1, self.COS2, self.PHI2 = np.meshgrid(self.wc, \n",
    "                                                                          self.cos, \n",
    "                                                                          self.phi,\n",
    "                                                                          self.cos,\n",
    "                                                                          self.phi,\n",
    "                                                                          indexing='ij')\n",
    "\n",
    "    def set_kernel(self):\n",
    "        self.kernel = [[] for _ in range(len(self.wd))]\n",
    "        \n",
    "        for idx, wd in enumerate(self.wd):\n",
    "            self.kernel[idx] = self.compute_kernel(wd)\n",
    "\n",
    "    def compute_kernel(self, wd: float):\n",
    "\n",
    "        v1 = np.sqrt(self.WC + wd / 2)\n",
    "        v2 = np.sqrt(self.WC - wd / 2, where=(self.WC - wd / 2 > 0), out=np.zeros(self.WC.shape))\n",
    "\n",
    "        SIN1, SIN2 = np.sqrt(1 - self.COS1**2), np.sqrt(1 - self.COS2**2)\n",
    "\n",
    "        v1_dot_v2 = self.COS1 * self.COS2 + np.cos(self.PHI1 - self.PHI2) * SIN1 * SIN2\n",
    "        na_dot_v1 = self.na[0] * SIN1 * np.cos(self.PHI1) + self.na[1] * SIN1 * np.sin(self.PHI1) + self.na[2] * self.COS1\n",
    "        na_dot_v2 = self.na[0] * SIN2 * np.cos(self.PHI2) + self.na[1] * SIN2 * np.sin(self.PHI2) + self.na[2] * self.COS2\n",
    "\n",
    "        result = np.exp(-0.5 * self.WC * self.tau) * v1 * v2 * 1j * (na_dot_v1 * v1 - na_dot_v2 * v2) \n",
    "        result = result / (self.WC - v1 * v2 * v1_dot_v2)\n",
    "        \n",
    "        return result\n",
    "    \n",
    "    def delta_t(self):\n",
    "        '''\n",
    "        compute the Fourier component of the timing residual\n",
    "        '''\n",
    "        self.delta_t_arr = [[] for _ in range(self.Nd)]\n",
    "        \n",
    "        for idx in range(self.Nd):\n",
    "            r1 = self.rng.rayleigh(size=(self.Nc, self.Nmu, self.Nphi))\n",
    "            r2 = self.rng.rayleigh(size=(self.Nc, self.Nmu, self.Nphi))\n",
    "            theta1 = self.rng.uniform(low=0, high=2*np.pi, size=(self.Nc, self.Nmu, self.Nphi))\n",
    "            theta2 = self.rng.uniform(low=0, high=2*np.pi, size=(self.Nc, self.Nmu, self.Nphi))\n",
    "\n",
    "            a1 = r1[:,:,:,None,None] * np.exp(+1j * theta1[:,:,:,None,None])\n",
    "            a2 = r2[:,None,None,:,:] * np.exp(-1j * theta2[:,None,None,:,:])\n",
    "            \n",
    "            self.delta_t_arr[idx] = np.sum(a1 * self.kernel[idx] * a2) / self.wd[idx]**2 * self.dwc * self.dO"
   ]
  },
  {
   "cell_type": "code",
   "execution_count": 315,
   "id": "9553101c",
   "metadata": {},
   "outputs": [],
   "source": [
    "test = ULDM_Signal(mass=5e-2, sigma=160, T=30*yr, na=np.array([0,0,1]))\n",
    "test.set_arrays(Nd=100, Nc=20, Nmu=10, Nphi=10)\n",
    "test.set_kernel()"
   ]
  },
  {
   "cell_type": "code",
   "execution_count": 316,
   "id": "bf5bd81a",
   "metadata": {},
   "outputs": [],
   "source": [
    "tmp = []\n",
    "for i in range(5):\n",
    "    test.delta_t()\n",
    "    tmp.append(np.abs(test.delta_t_arr)**2)"
   ]
  },
  {
   "cell_type": "code",
   "execution_count": 317,
   "id": "fff47581",
   "metadata": {},
   "outputs": [],
   "source": [
    "aa = [np.mean(np.array(tmp)[:,i]) for i in range(len(tmp[0]))]"
   ]
  },
  {
   "cell_type": "code",
   "execution_count": 335,
   "id": "c3b70137",
   "metadata": {},
   "outputs": [
    {
     "data": {
      "text/plain": [
       "Text(0, 0.5, '$|\\\\widetilde{\\\\delta t}|^2$')"
      ]
     },
     "execution_count": 335,
     "metadata": {},
     "output_type": "execute_result"
    },
    {
     "data": {
      "image/png": "[encoded data removed]",
      "text/plain": [
       "<Figure size 640x480 with 1 Axes>"
      ]
     },
     "metadata": {},
     "output_type": "display_data"
    }
   ],
   "source": [
    "for i in range(len(tmp)):\n",
    "    plt.plot(test.wd, tmp[i], '.')\n",
    "plt.plot(test.wd, 1e-21 * s(test.wd / 2, test.tau),lw=10,alpha=0.3)\n",
    "# plt.plot(test.wd, 1e+10 * k0(np.abs(test.wd * test.tau)) )\n",
    "# plt.plot(test.wd, 1e-19/test.wd**4)\n",
    "plt.xscale('log')\n",
    "plt.yscale('log')\n",
    "plt.xlabel(r'$\\omega\\,\\,[\\rm Hz]$')\n",
    "plt.ylabel(r'$|\\widetilde{\\delta t}|^2$')"
   ]
  },
  {
   "cell_type": "code",
   "execution_count": 258,
   "id": "9c0e01b9",
   "metadata": {},
   "outputs": [],
   "source": [
    "def s(w, tau):\n",
    "    return 1/w**4 * k0(np.abs(w * tau))"
   ]
  }
 ],
 "metadata": {
  "kernelspec": {
   "display_name": "Python 3",
   "language": "python",
   "name": "python3"
  },
  "language_info": {
   "codemirror_mode": {
    "name": "ipython",
    "version": 3
   },
   "file_extension": ".py",
   "mimetype": "text/x-python",
   "name": "python",
   "nbconvert_exporter": "python",
   "pygments_lexer": "ipython3",
   "version": "3.10.11"
  }
 },
 "nbformat": 4,
 "nbformat_minor": 5
}
